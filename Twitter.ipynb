{
  "nbformat": 4,
  "nbformat_minor": 0,
  "metadata": {
    "colab": {
      "name": "Twitter.ipynb",
      "provenance": []
    },
    "kernelspec": {
      "name": "python3",
      "display_name": "Python 3"
    }
  },
  "cells": [
    {
      "cell_type": "markdown",
      "metadata": {
        "id": "0HvXM2wEMF5n",
        "colab_type": "text"
      },
      "source": [
        "# **Sentiment Analysis on Twitter Tweets**\n",
        "\n"
      ]
    },
    {
      "cell_type": "markdown",
      "metadata": {
        "id": "Ved_CYqYMRp5",
        "colab_type": "text"
      },
      "source": [
        "# Importing Packages\n"
      ]
    },
    {
      "cell_type": "code",
      "metadata": {
        "id": "5PvNcGMLqYtO",
        "colab_type": "code",
        "colab": {
          "base_uri": "https://localhost:8080/",
          "height": 101
        },
        "outputId": "7451173d-af5c-4d29-db5b-6a20fefc45b5"
      },
      "source": [
        "import re\n",
        "import pandas as pd\n",
        "import matplotlib as plt\n",
        "%matplotlib inline\n",
        "import tensorflow as tf\n",
        "from tensorflow import keras\n",
        "from keras.models import Sequential\n",
        "from keras.layers import Embedding,LSTM,Conv1D,Dropout,MaxPooling1D,Bidirectional,Dense,BatchNormalization\n",
        "from keras.metrics import Recall,Precision,BinaryAccuracy\n",
        "import nltk\n",
        "from nltk.corpus import stopwords\n",
        "nltk.download('stopwords')\n",
        "from nltk.stem import WordNetLemmatizer\n",
        "nltk.download('wordnet')\n"
      ],
      "execution_count": 97,
      "outputs": [
        {
          "output_type": "stream",
          "text": [
            "[nltk_data] Downloading package stopwords to /root/nltk_data...\n",
            "[nltk_data]   Package stopwords is already up-to-date!\n",
            "[nltk_data] Downloading package wordnet to /root/nltk_data...\n",
            "[nltk_data]   Package wordnet is already up-to-date!\n"
          ],
          "name": "stdout"
        },
        {
          "output_type": "execute_result",
          "data": {
            "text/plain": [
              "True"
            ]
          },
          "metadata": {
            "tags": []
          },
          "execution_count": 97
        }
      ]
    },
    {
      "cell_type": "code",
      "metadata": {
        "id": "LzJmMqOhq_4F",
        "colab_type": "code",
        "colab": {}
      },
      "source": [
        "import warnings\n",
        "warnings.filterwarnings(\"ignore\")"
      ],
      "execution_count": 0,
      "outputs": []
    },
    {
      "cell_type": "markdown",
      "metadata": {
        "id": "aA19g9xmMkqF",
        "colab_type": "text"
      },
      "source": [
        "# Reading Dataset"
      ]
    },
    {
      "cell_type": "code",
      "metadata": {
        "id": "EzZinAkMqdk1",
        "colab_type": "code",
        "colab": {}
      },
      "source": [
        "df = pd.read_csv(\"/content/drive/My Drive/twitter.csv\")"
      ],
      "execution_count": 0,
      "outputs": []
    },
    {
      "cell_type": "code",
      "metadata": {
        "id": "v_IlGNsBqh8b",
        "colab_type": "code",
        "colab": {
          "base_uri": "https://localhost:8080/",
          "height": 67
        },
        "outputId": "9ce43520-13c6-4808-b63d-3bd9b35c9860"
      },
      "source": [
        "df['label'].value_counts(normalize = True)"
      ],
      "execution_count": 101,
      "outputs": [
        {
          "output_type": "execute_result",
          "data": {
            "text/plain": [
              "0    0.929854\n",
              "1    0.070146\n",
              "Name: label, dtype: float64"
            ]
          },
          "metadata": {
            "tags": []
          },
          "execution_count": 101
        }
      ]
    },
    {
      "cell_type": "code",
      "metadata": {
        "id": "Yqbz95j2qonJ",
        "colab_type": "code",
        "colab": {}
      },
      "source": [
        "stop = stopwords.words('english')\n",
        "lemmatizer = WordNetLemmatizer() "
      ],
      "execution_count": 0,
      "outputs": []
    },
    {
      "cell_type": "markdown",
      "metadata": {
        "id": "TO4AHX_GMp9o",
        "colab_type": "text"
      },
      "source": [
        "# Data Cleaning"
      ]
    },
    {
      "cell_type": "code",
      "metadata": {
        "id": "iO1JipaPqtd1",
        "colab_type": "code",
        "colab": {}
      },
      "source": [
        "def preprocess(df):\n",
        "    for i in range(len(df)):\n",
        "        k = []\n",
        "        df['tweet'][i] = df['tweet'][i].lower()\n",
        "        df['tweet'][i] = re.sub('@[\\w]*','',df['tweet'][i])\n",
        "        df['tweet'][i] = re.sub('[^a-zA-Z ]','',df['tweet'][i])\n",
        "        k = []\n",
        "        for j in df['tweet'][i].split():\n",
        "            if j not in stop:\n",
        "                j = lemmatizer.lemmatize(j)\n",
        "                k.append(j)\n",
        "        df['tweet'][i] = ' '.join(k)\n",
        "    return df"
      ],
      "execution_count": 0,
      "outputs": []
    },
    {
      "cell_type": "code",
      "metadata": {
        "id": "2Svl5ff_quAc",
        "colab_type": "code",
        "colab": {}
      },
      "source": [
        "df = preprocess(df)"
      ],
      "execution_count": 0,
      "outputs": []
    },
    {
      "cell_type": "markdown",
      "metadata": {
        "id": "bXjLog86M0lt",
        "colab_type": "text"
      },
      "source": [
        "#Train Test Split"
      ]
    },
    {
      "cell_type": "code",
      "metadata": {
        "id": "GMvfdUe4rNch",
        "colab_type": "code",
        "colab": {}
      },
      "source": [
        "x = df['tweet']\n",
        "y = df['label']\n",
        "from sklearn.model_selection import train_test_split\n",
        "train_x,test_x,train_y,test_y = train_test_split(x,y,test_size = 0.33,random_state = 100,shuffle = True,stratify = y) "
      ],
      "execution_count": 0,
      "outputs": []
    },
    {
      "cell_type": "markdown",
      "metadata": {
        "id": "oklrOZP0M6Aj",
        "colab_type": "text"
      },
      "source": [
        "#Tokenizeing And Vectorizing Comments"
      ]
    },
    {
      "cell_type": "code",
      "metadata": {
        "id": "u8zDihZOrC0H",
        "colab_type": "code",
        "colab": {}
      },
      "source": [
        "vocab = []\n",
        "for i in df['tweet']:\n",
        "  for j in i.split():\n",
        "    vocab.append(j)"
      ],
      "execution_count": 0,
      "outputs": []
    },
    {
      "cell_type": "code",
      "metadata": {
        "id": "ZT5vr9CprGiA",
        "colab_type": "code",
        "colab": {}
      },
      "source": [
        "vocab = sorted(set(vocab))\n",
        "len_vocab = len(vocab)"
      ],
      "execution_count": 0,
      "outputs": []
    },
    {
      "cell_type": "code",
      "metadata": {
        "id": "OTibFuRurOZU",
        "colab_type": "code",
        "colab": {}
      },
      "source": [
        "from tensorflow.keras.preprocessing.text import Tokenizer\n",
        "from tensorflow.keras.preprocessing.sequence import pad_sequences\n",
        "t = Tokenizer(oov_token = '<OOV>',num_words = len_vocab,filters = '')\n",
        "t.fit_on_texts(vocab)"
      ],
      "execution_count": 0,
      "outputs": []
    },
    {
      "cell_type": "code",
      "metadata": {
        "id": "BiyuTXRqrU92",
        "colab_type": "code",
        "colab": {
          "base_uri": "https://localhost:8080/",
          "height": 34
        },
        "outputId": "d221baba-701b-4251-f37e-1ff49cd894d8"
      },
      "source": [
        "f = []\n",
        "max = 0\n",
        "for i in train_x:\n",
        "  f.append(i.split())\n",
        "  if len(i.split()) > max:\n",
        "    max = len(i.split()) \n",
        "max"
      ],
      "execution_count": 109,
      "outputs": [
        {
          "output_type": "execute_result",
          "data": {
            "text/plain": [
              "23"
            ]
          },
          "metadata": {
            "tags": []
          },
          "execution_count": 109
        }
      ]
    },
    {
      "cell_type": "code",
      "metadata": {
        "id": "My59YU8_rW-2",
        "colab_type": "code",
        "colab": {}
      },
      "source": [
        "seq = t.texts_to_sequences(f)\n",
        "feature = pad_sequences(seq,padding = 'post',maxlen = 20,truncating = 'post')"
      ],
      "execution_count": 0,
      "outputs": []
    },
    {
      "cell_type": "markdown",
      "metadata": {
        "id": "lt8OYrPANEXQ",
        "colab_type": "text"
      },
      "source": [
        "#Over Sampling"
      ]
    },
    {
      "cell_type": "code",
      "metadata": {
        "id": "DwQO9SHgrZvz",
        "colab_type": "code",
        "colab": {}
      },
      "source": [
        "import numpy as np\n",
        "label = np.reshape(np.array(train_y),(train_y.shape[0],1))"
      ],
      "execution_count": 0,
      "outputs": []
    },
    {
      "cell_type": "code",
      "metadata": {
        "id": "yJpJHk_RmXuw",
        "colab_type": "code",
        "colab": {}
      },
      "source": [
        "from imblearn.over_sampling import RandomOverSampler\n",
        "os = RandomOverSampler(ratio = 0.8,random_state = 100)\n",
        "feature,label = os.fit_sample(feature,label.ravel())"
      ],
      "execution_count": 0,
      "outputs": []
    },
    {
      "cell_type": "code",
      "metadata": {
        "id": "GMO0-_x5rfnr",
        "colab_type": "code",
        "colab": {
          "base_uri": "https://localhost:8080/",
          "height": 34
        },
        "outputId": "8ab00d32-a647-41f0-81c5-aad597de02f9"
      },
      "source": [
        "label.shape,feature.shape"
      ],
      "execution_count": 114,
      "outputs": [
        {
          "output_type": "execute_result",
          "data": {
            "text/plain": [
              "((35841,), (35841, 20))"
            ]
          },
          "metadata": {
            "tags": []
          },
          "execution_count": 114
        }
      ]
    },
    {
      "cell_type": "code",
      "metadata": {
        "id": "8PiHdBYimytJ",
        "colab_type": "code",
        "colab": {}
      },
      "source": [
        "label = np.reshape(label,(label.shape[0],1))"
      ],
      "execution_count": 0,
      "outputs": []
    },
    {
      "cell_type": "code",
      "metadata": {
        "id": "BDxVsY-FrlA5",
        "colab_type": "code",
        "colab": {
          "base_uri": "https://localhost:8080/",
          "height": 34
        },
        "outputId": "3015cfaa-8cae-4611-9883-ee48dc8c57e8"
      },
      "source": [
        "label.shape,feature.shape"
      ],
      "execution_count": 116,
      "outputs": [
        {
          "output_type": "execute_result",
          "data": {
            "text/plain": [
              "((35841, 1), (35841, 20))"
            ]
          },
          "metadata": {
            "tags": []
          },
          "execution_count": 116
        }
      ]
    },
    {
      "cell_type": "markdown",
      "metadata": {
        "id": "qbodKaOwNTUL",
        "colab_type": "text"
      },
      "source": [
        "#Model With Cross Validation\n"
      ]
    },
    {
      "cell_type": "code",
      "metadata": {
        "id": "NB-Oq6EFtAfr",
        "colab_type": "code",
        "colab": {
          "base_uri": "https://localhost:8080/",
          "height": 823
        },
        "outputId": "8cf391ce-4c07-4ead-ed89-6b0e9416685e"
      },
      "source": [
        "# MLP for Pima Indians Dataset with 10-fold cross validation\n",
        "from keras.models import Sequential\n",
        "from keras.layers import Dense\n",
        "from sklearn.model_selection import StratifiedKFold\n",
        "import numpy\n",
        "# fix random seed for reproducibility\n",
        "seed = 7\n",
        "numpy.random.seed(seed)\n",
        "kfold = StratifiedKFold(n_splits=6, shuffle=True, random_state=seed)\n",
        "member = []\n",
        "for train, test in kfold.split(feature, label):\n",
        "  model = Sequential()\n",
        "  model.add(Embedding(len_vocab,1000,input_length =20))\n",
        "  \n",
        "  \n",
        "  model.add(Bidirectional(LSTM(250,return_sequences=True,dropout = 0.2,recurrent_dropout=0.1)))\n",
        "  model.add(Bidirectional(LSTM(250,return_sequences=True,dropout = 0.2,recurrent_dropout=0.1)))\n",
        "  model.add(Bidirectional(LSTM(250,return_sequences=True,dropout = 0.2,recurrent_dropout=0.1)))\n",
        "  model.add(Bidirectional(LSTM(125,return_sequences=True))) \n",
        "  \n",
        "  model.add(Conv1D(125,1,padding = 'same',strides = 1))\n",
        "  model.add(MaxPooling1D(1))\n",
        "  model.add(BatchNormalization())\n",
        "\n",
        "  model.add(LSTM(50))\n",
        "\n",
        "  model.add(Dense((200)))\n",
        "  model.add(Dense(100,activation = 'relu'))\n",
        "  model.add(Dropout(0.2))\n",
        "  model.add(Dense(1,activation = 'sigmoid'))\n",
        "\n",
        "  model.compile(loss='binary_crossentropy', optimizer='adam', metrics = [Recall(name = 'r'),Precision(name = 'p'),BinaryAccuracy(name = 'abs')])\n",
        "  \n",
        "  model.fit(feature[train], label[train], epochs=3, batch_size=500,shuffle = True)\n",
        "  scores = model.evaluate(feature[test], label[test])\n",
        "  member.append(model)\n",
        "  print(scores)\n",
        "  \n",
        "\n",
        "\t\n",
        "\n",
        "\t\n"
      ],
      "execution_count": 119,
      "outputs": [
        {
          "output_type": "stream",
          "text": [
            "Epoch 1/3\n",
            "29867/29867 [==============================] - 410s 14ms/step - loss: 0.2755 - r: 0.8257 - p: 0.8642 - abs: 0.8649\n",
            "Epoch 2/3\n",
            "29867/29867 [==============================] - 405s 14ms/step - loss: 0.0313 - r: 0.9910 - p: 0.9874 - abs: 0.9904\n",
            "Epoch 3/3\n",
            "29867/29867 [==============================] - 406s 14ms/step - loss: 0.0154 - r: 0.9941 - p: 0.9951 - abs: 0.9952\n",
            "5974/5974 [==============================] - 43s 7ms/step\n",
            "[0.0622819475626157, 0.9928436875343323, 0.9755736589431763, 0.985771656036377]\n",
            "Epoch 1/3\n",
            "29867/29867 [==============================] - 416s 14ms/step - loss: 0.3018 - r: 0.7850 - p: 0.8615 - abs: 0.8484\n",
            "Epoch 2/3\n",
            "29867/29867 [==============================] - 414s 14ms/step - loss: 0.0381 - r: 0.9906 - p: 0.9859 - abs: 0.9895\n",
            "Epoch 3/3\n",
            "29867/29867 [==============================] - 414s 14ms/step - loss: 0.0143 - r: 0.9965 - p: 0.9947 - abs: 0.9961\n",
            "5974/5974 [==============================] - 42s 7ms/step\n",
            "[0.0340549220130453, 0.9969868063926697, 0.9821892380714417, 0.9906260371208191]\n",
            "Epoch 1/3\n",
            "29867/29867 [==============================] - 413s 14ms/step - loss: 0.2606 - r: 0.8247 - p: 0.8798 - abs: 0.8720\n",
            "Epoch 2/3\n",
            "29867/29867 [==============================] - 405s 14ms/step - loss: 0.0312 - r: 0.9922 - p: 0.9872 - abs: 0.9908\n",
            "Epoch 3/3\n",
            "29867/29867 [==============================] - 405s 14ms/step - loss: 0.0149 - r: 0.9958 - p: 0.9941 - abs: 0.9955\n",
            "5974/5974 [==============================] - 43s 7ms/step\n",
            "[0.05045772663224941, 0.9992467164993286, 0.977523922920227, 0.9894543290138245]\n",
            "Epoch 1/3\n",
            "29868/29868 [==============================] - 409s 14ms/step - loss: 0.3034 - r: 0.7898 - p: 0.8732 - abs: 0.8556\n",
            "Epoch 2/3\n",
            "29868/29868 [==============================] - 405s 14ms/step - loss: 0.0391 - r: 0.9889 - p: 0.9848 - abs: 0.9883\n",
            "Epoch 3/3\n",
            "29868/29868 [==============================] - 406s 14ms/step - loss: 0.0159 - r: 0.9962 - p: 0.9942 - abs: 0.9957\n",
            "5973/5973 [==============================] - 42s 7ms/step\n",
            "[0.03953534823484466, 0.9977392554283142, 0.9796522259712219, 0.9897873997688293]\n",
            "Epoch 1/3\n",
            "29868/29868 [==============================] - 414s 14ms/step - loss: 0.2758 - r: 0.8187 - p: 0.8663 - abs: 0.8633\n",
            "Epoch 2/3\n",
            "29868/29868 [==============================] - 416s 14ms/step - loss: 0.0314 - r: 0.9907 - p: 0.9868 - abs: 0.9900\n",
            "Epoch 3/3\n",
            "29868/29868 [==============================] - 411s 14ms/step - loss: 0.0168 - r: 0.9943 - p: 0.9944 - abs: 0.9950\n",
            "5973/5973 [==============================] - 43s 7ms/step\n",
            "[0.0647636305200656, 0.9992467164993286, 0.9619289636611938, 0.9820860624313354]\n",
            "Epoch 1/3\n",
            "29868/29868 [==============================] - 418s 14ms/step - loss: 0.2603 - r: 0.8310 - p: 0.8840 - abs: 0.8764\n",
            "Epoch 2/3\n",
            "29868/29868 [==============================] - 409s 14ms/step - loss: 0.0279 - r: 0.9913 - p: 0.9900 - abs: 0.9917\n",
            "Epoch 3/3\n",
            "29868/29868 [==============================] - 410s 14ms/step - loss: 0.0156 - r: 0.9953 - p: 0.9945 - abs: 0.9955\n",
            "5973/5973 [==============================] - 43s 7ms/step\n",
            "[0.05396246125527475, 0.9992467164993286, 0.9707281589508057, 0.9862715601921082]\n"
          ],
          "name": "stdout"
        }
      ]
    },
    {
      "cell_type": "code",
      "metadata": {
        "id": "EUFdqYS536aG",
        "colab_type": "code",
        "colab": {
          "base_uri": "https://localhost:8080/",
          "height": 118
        },
        "outputId": "5dea420a-a66d-4d90-c0a4-58662ee185d6"
      },
      "source": [
        "member"
      ],
      "execution_count": 120,
      "outputs": [
        {
          "output_type": "execute_result",
          "data": {
            "text/plain": [
              "[<keras.engine.sequential.Sequential at 0x7f5620f45c18>,\n",
              " <keras.engine.sequential.Sequential at 0x7f5620f10fd0>,\n",
              " <keras.engine.sequential.Sequential at 0x7f56060fecc0>,\n",
              " <keras.engine.sequential.Sequential at 0x7f56048fae48>,\n",
              " <keras.engine.sequential.Sequential at 0x7f5602df4e48>,\n",
              " <keras.engine.sequential.Sequential at 0x7f5602f6ca20>]"
            ]
          },
          "metadata": {
            "tags": []
          },
          "execution_count": 120
        }
      ]
    },
    {
      "cell_type": "markdown",
      "metadata": {
        "id": "iOOAMlgXNczF",
        "colab_type": "text"
      },
      "source": [
        "#Evaluation"
      ]
    },
    {
      "cell_type": "code",
      "metadata": {
        "id": "bDeEiXMaUXoW",
        "colab_type": "code",
        "colab": {
          "base_uri": "https://localhost:8080/",
          "height": 34
        },
        "outputId": "1985c454-901a-4e85-8b80-1ae33a093b82"
      },
      "source": [
        "test = []\n",
        "max = 0\n",
        "for i in test_x:\n",
        "  test.append(i.split())\n",
        "  if len(i.split()) > max:\n",
        "    max = len(i.split()) \n",
        "max"
      ],
      "execution_count": 121,
      "outputs": [
        {
          "output_type": "execute_result",
          "data": {
            "text/plain": [
              "21"
            ]
          },
          "metadata": {
            "tags": []
          },
          "execution_count": 121
        }
      ]
    },
    {
      "cell_type": "code",
      "metadata": {
        "id": "HSOGbcNNUZmt",
        "colab_type": "code",
        "colab": {
          "base_uri": "https://localhost:8080/",
          "height": 34
        },
        "outputId": "c3fbcbc3-1540-4cb7-ca93-4f4b5e1c7f56"
      },
      "source": [
        "seq = t.texts_to_sequences(test)\n",
        "tes = pad_sequences(seq,padding = 'post',maxlen = 20,truncating = 'post')\n",
        "test_y.shape,label.shape,tes.shape"
      ],
      "execution_count": 123,
      "outputs": [
        {
          "output_type": "execute_result",
          "data": {
            "text/plain": [
              "((10548,), (35841, 1), (10548, 20))"
            ]
          },
          "metadata": {
            "tags": []
          },
          "execution_count": 123
        }
      ]
    },
    {
      "cell_type": "code",
      "metadata": {
        "id": "Vj9uw9k4Ufcc",
        "colab_type": "code",
        "colab": {}
      },
      "source": [
        "test_y = np.array(test_y)\n",
        "test_y = np.reshape(test_y,(10548,1))"
      ],
      "execution_count": 0,
      "outputs": []
    },
    {
      "cell_type": "code",
      "metadata": {
        "id": "ZI_E5U4rUlJl",
        "colab_type": "code",
        "colab": {}
      },
      "source": [
        "pred = []\n",
        "for i in member:\n",
        " pred.append(i.predict_classes(tes))"
      ],
      "execution_count": 0,
      "outputs": []
    },
    {
      "cell_type": "code",
      "metadata": {
        "id": "YEOYyFK_Uq4X",
        "colab_type": "code",
        "colab": {}
      },
      "source": [
        "p = []\n",
        "for i in pred:\n",
        "  i = np.reshape(i,(i.shape[0],))\n",
        "  p.append(i)\n",
        "  "
      ],
      "execution_count": 0,
      "outputs": []
    },
    {
      "cell_type": "code",
      "metadata": {
        "id": "Pbyn7ILUVW9A",
        "colab_type": "code",
        "colab": {}
      },
      "source": [
        "from scipy import stats\n",
        "m = stats.mode(p)[0]\n",
        "m = np.reshape(m,(10548,1))"
      ],
      "execution_count": 0,
      "outputs": []
    },
    {
      "cell_type": "code",
      "metadata": {
        "id": "WUpk6FDEVkj6",
        "colab_type": "code",
        "colab": {
          "base_uri": "https://localhost:8080/",
          "height": 34
        },
        "outputId": "4c2e0d69-6241-48f2-9188-1404a493753d"
      },
      "source": [
        "m.shape,test_y.shape"
      ],
      "execution_count": 129,
      "outputs": [
        {
          "output_type": "execute_result",
          "data": {
            "text/plain": [
              "((10548, 1), (10548, 1))"
            ]
          },
          "metadata": {
            "tags": []
          },
          "execution_count": 129
        }
      ]
    },
    {
      "cell_type": "code",
      "metadata": {
        "id": "o765V70iVdFR",
        "colab_type": "code",
        "colab": {
          "base_uri": "https://localhost:8080/",
          "height": 168
        },
        "outputId": "6057dfdc-f3c2-4307-fae8-74529915143d"
      },
      "source": [
        "from sklearn.metrics import classification_report\n",
        "print(classification_report(m,test_y))"
      ],
      "execution_count": 130,
      "outputs": [
        {
          "output_type": "stream",
          "text": [
            "              precision    recall  f1-score   support\n",
            "\n",
            "           0       0.98      0.97      0.98      9954\n",
            "           1       0.58      0.73      0.65       594\n",
            "\n",
            "    accuracy                           0.96     10548\n",
            "   macro avg       0.78      0.85      0.81     10548\n",
            "weighted avg       0.96      0.96      0.96     10548\n",
            "\n"
          ],
          "name": "stdout"
        }
      ]
    }
  ]
}